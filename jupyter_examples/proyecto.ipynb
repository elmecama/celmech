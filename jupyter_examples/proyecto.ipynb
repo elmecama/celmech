{
 "cells": [
  {
   "cell_type": "code",
   "execution_count": 402,
   "id": "f22af771",
   "metadata": {},
   "outputs": [
    {
     "ename": "ModuleNotFoundError",
     "evalue": "No module named 'elmecama'",
     "output_type": "error",
     "traceback": [
      "\u001b[0;31m---------------------------------------------------------------------------\u001b[0m",
      "\u001b[0;31mModuleNotFoundError\u001b[0m                       Traceback (most recent call last)",
      "\u001b[0;32m<ipython-input-402-37910569a127>\u001b[0m in \u001b[0;36m<module>\u001b[0;34m\u001b[0m\n\u001b[1;32m      1\u001b[0m \u001b[0;32mimport\u001b[0m \u001b[0msympy\u001b[0m \u001b[0;32mas\u001b[0m \u001b[0msy\u001b[0m\u001b[0;34m\u001b[0m\u001b[0;34m\u001b[0m\u001b[0m\n\u001b[1;32m      2\u001b[0m \u001b[0;32mfrom\u001b[0m \u001b[0mnumpy\u001b[0m \u001b[0;32mimport\u001b[0m \u001b[0;34m*\u001b[0m\u001b[0;34m\u001b[0m\u001b[0;34m\u001b[0m\u001b[0m\n\u001b[0;32m----> 3\u001b[0;31m \u001b[0;32mfrom\u001b[0m \u001b[0melmecama\u001b[0m\u001b[0;34m.\u001b[0m\u001b[0mcelmech\u001b[0m \u001b[0;32mimport\u001b[0m \u001b[0mdisturbing_function\u001b[0m \u001b[0;32mas\u001b[0m \u001b[0mdf\u001b[0m\u001b[0;34m\u001b[0m\u001b[0;34m\u001b[0m\u001b[0m\n\u001b[0m\u001b[1;32m      4\u001b[0m \u001b[0;32mimport\u001b[0m \u001b[0mmatplotlib\u001b[0m\u001b[0;34m.\u001b[0m\u001b[0mpyplot\u001b[0m \u001b[0;32mas\u001b[0m \u001b[0mplt\u001b[0m\u001b[0;34m\u001b[0m\u001b[0;34m\u001b[0m\u001b[0m\n\u001b[1;32m      5\u001b[0m \u001b[0mplt\u001b[0m\u001b[0;34m.\u001b[0m\u001b[0mrcParams\u001b[0m\u001b[0;34m[\u001b[0m\u001b[0;34m'text.usetex'\u001b[0m\u001b[0;34m]\u001b[0m \u001b[0;34m=\u001b[0m \u001b[0;32mTrue\u001b[0m\u001b[0;34m\u001b[0m\u001b[0;34m\u001b[0m\u001b[0m\n",
      "\u001b[0;31mModuleNotFoundError\u001b[0m: No module named 'elmecama'"
     ]
    }
   ],
   "source": [
    "import sympy as sy\n",
    "from numpy import *\n",
    "from elmecama.celmech import disturbing_function as df\n",
    "import matplotlib.pyplot as plt\n",
    "plt.rcParams['text.usetex'] = True\n",
    "\n",
    "sy.init_printing()\n",
    "\n",
    "lambda_i,a_i,e_i,s_i,omega_i,Omega_i,i_i = sy.symbols('lambda_i,a_i,e_i,s_i,omega_i,Omega_i,i_i')\n",
    "lambda_j,a_j,e_j,s_j,omega_j,Omega_j,i_j = sy.symbols('lambda_j,a_j,e_j,s_j,omega_j,Omega_j,i_j')\n",
    "\n",
    "s_i = sy.sin(i_i/2)\n",
    "s_j = sy.sin(i_j/2)"
   ]
  },
  {
   "cell_type": "code",
   "execution_count": 397,
   "id": "45cd2403",
   "metadata": {},
   "outputs": [],
   "source": [
    "def coef_E(j1,j2,j3,j4,j5,j6,nu1,nu2,nu3,nu4):\n",
    "    m = j1+j3+j5\n",
    "    if m != 0 and m != 1:\n",
    "        return 0\n",
    "    if int((j2+j4+1)/2)-(j2+j4+1)/2 == 0:\n",
    "        p = int((j2+j4+1)/2)\n",
    "    else:\n",
    "        return 0\n",
    "    if int((j1+j3-1)/2)-(j1+j3-1)/2 == 0:\n",
    "        p_j = int((j1+j3-1)/2)\n",
    "    else:\n",
    "        return 0\n",
    "    if m == 0:\n",
    "        k = 1\n",
    "    else:\n",
    "        k = 2\n",
    "    coef_E = -k*math.factorial(1-m)/math.factorial(1+m)*df.KaulaF(1,m,p,nu1)*df.KaulaF(1,m,p_j,nu2)*df.HansenCoefficient_term(1,-j2-j4,-j2,nu3)*df.HansenCoefficient_term(-2,j1+j3,j1,nu4)\n",
    "    return coef_E"
   ]
  },
  {
   "cell_type": "code",
   "execution_count": 398,
   "id": "7defc408",
   "metadata": {
    "scrolled": false
   },
   "outputs": [],
   "source": [
    "A = df.list_resonance_terms(2,1,0,1)"
   ]
  },
  {
   "cell_type": "code",
   "execution_count": 399,
   "id": "c678eda2",
   "metadata": {},
   "outputs": [],
   "source": [
    "C = []\n",
    "\n",
    "for i in range(0, len(A)):\n",
    "\tC.append(coef_E(A[i][0][0],A[i][0][1],A[i][0][2],A[i][0][3],A[i][0][4],A[i][0][5], A[i][1][0],A[i][1][1],A[i][1][2],A[i][1][3]))"
   ]
  },
  {
   "cell_type": "code",
   "execution_count": 400,
   "id": "1e8854e5",
   "metadata": {},
   "outputs": [
    {
     "data": {
      "image/png": "[encoded data removed]",
      "text/latex": [
       "$\\displaystyle - 2.0 e_{j} \\cos{\\left(\\lambda_{i} - 2 \\lambda_{j} + \\omega_{i} \\right)}$"
      ],
      "text/plain": [
       "-2.0⋅e_j⋅cos(λᵢ - 2⋅λ_j + ωᵢ)"
      ]
     },
     "execution_count": 400,
     "metadata": {},
     "output_type": "execute_result"
    }
   ],
   "source": [
    "R = 0\n",
    "for i in range(0,len(C)):\n",
    "    R += (s_j**(abs(A[i][0][4]) + 2*A[i][1][0]) * s_i**(abs(A[i][0][5]) + 2*A[i][1][1]) * e_j**(abs(A[i][0][2]) + 2*A[i][1][2]) * e_i**(abs(A[i][0][3]) + 2*A[i][1][3]))*C[i]*sy.cos(A[i][0][1] * lambda_i + A[i][0][0]*lambda_j+A[i][0][2]*omega_i+ A[i][0][3]*omega_j + A[i][0][4]*Omega_i + A[i][0][5]*Omega_j) \n",
    "\n",
    "R"
   ]
  },
  {
   "cell_type": "markdown",
   "id": "b01fb28f",
   "metadata": {},
   "source": [
    "Ahora agrego los términos directos:\n"
   ]
  },
  {
   "cell_type": "code",
   "execution_count": 401,
   "id": "951bb2fa",
   "metadata": {},
   "outputs": [
    {
     "data": {
      "image/png": "[encoded data removed]",
      "text/latex": [
       "$\\displaystyle - 0.661360693815794 e_{i} \\cos{\\left(- 2 \\lambda_{i} + \\lambda_{j} + \\omega_{i} \\right)} + 1.17867650303848 e_{j} \\cos{\\left(- 2 \\lambda_{i} + \\lambda_{j} + \\omega_{j} \\right)} - 2.0 e_{j} \\cos{\\left(\\lambda_{i} - 2 \\lambda_{j} + \\omega_{i} \\right)}$"
      ],
      "text/plain": [
       "-0.661360693815794⋅eᵢ⋅cos(-2⋅λᵢ + λ_j + ωᵢ) + 1.17867650303848⋅e_j⋅cos(-2⋅λᵢ +\n",
       " λ_j + ω_j) - 2.0⋅e_j⋅cos(λᵢ - 2⋅λ_j + ωᵢ)"
      ]
     },
     "execution_count": 401,
     "metadata": {},
     "output_type": "execute_result"
    }
   ],
   "source": [
    "alpha = 0.5\n",
    "C = []\n",
    "C_val = []\n",
    "\n",
    "for i in range(0, len(A)):\n",
    "\tC = df.df_coefficient_Ctilde(A[i][0][0],A[i][0][1],A[i][0][2],A[i][0][3],A[i][0][4],A[i][0][5], A[i][1][0],A[i][1][1],A[i][1][2],A[i][1][3],  include_indirect=False)\n",
    "\tC_val.append(df.evaluate_df_coefficient_dict(C, alpha))\n",
    "\n",
    "C_val\n",
    "\n",
    "R2 = 0\n",
    "for i in range(0,len(C_val)):\n",
    "    R2 += (s_i**(abs(A[i][0][4]) + 2*A[i][1][0]) * s_j**(abs(A[i][0][5]) + 2*A[i][1][1]) * e_i**(abs(A[i][0][2]) + 2*A[i][1][2]) * e_j**(abs(A[i][0][3]) + 2*A[i][1][3]))*C_val[i]*sy.cos(A[i][0][0]*lambda_i + A[i][0][1]*lambda_j +A[i][0][2]*omega_i+ A[i][0][3]*omega_j + A[i][0][4]*Omega_i + A[i][0][5]*Omega_j) \n",
    "\n",
    "R = R2+R\n",
    "\n",
    "R"
   ]
  },
  {
   "cell_type": "code",
   "execution_count": null,
   "id": "bdba1ae4",
   "metadata": {},
   "outputs": [],
   "source": []
  }
 ],
 "metadata": {
  "kernelspec": {
   "display_name": "Python 3",
   "language": "python",
   "name": "python3"
  },
  "language_info": {
   "codemirror_mode": {
    "name": "ipython",
    "version": 3
   },
   "file_extension": ".py",
   "mimetype": "text/x-python",
   "name": "python",
   "nbconvert_exporter": "python",
   "pygments_lexer": "ipython3",
   "version": "3.8.8"
  }
 },
 "nbformat": 4,
 "nbformat_minor": 5
}
